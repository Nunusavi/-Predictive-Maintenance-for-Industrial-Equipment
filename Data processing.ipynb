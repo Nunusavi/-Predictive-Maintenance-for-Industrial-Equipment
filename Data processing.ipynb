{
 "cells": [
  {
   "cell_type": "code",
   "execution_count": 33,
   "metadata": {},
   "outputs": [],
   "source": [
    "import pandas as pd\n",
    "import numpy as np\n",
    "import matplotlib.pyplot as plt\n",
    "from sklearn.model_selection import train_test_split\n",
    "from sklearn.ensemble import IsolationForest\n",
    "from sklearn.metrics import classification_report"
   ]
  },
  {
   "cell_type": "code",
   "execution_count": 34,
   "metadata": {},
   "outputs": [],
   "source": [
    "machine = pd.read_csv('Equipment data from keggel/PdM_machines.csv')\n",
    "maintenance = pd.read_csv('Equipment data from keggel/PdM_maint.csv')\n",
    "telemetry = pd.read_csv('Equipment data from keggel/PdM_telemetry.csv')\n",
    "failures = pd.read_csv('Equipment data from keggel/PdM_failures.csv')\n",
    "errors = pd.read_csv('Equipment data from keggel/PdM_errors.csv')\n",
    "\n"
   ]
  },
  {
   "cell_type": "code",
   "execution_count": 35,
   "metadata": {},
   "outputs": [],
   "source": [
    "maintenance['datetime'] = pd.to_datetime(maintenance['datetime'])\n",
    "telemetry['datetime'] = pd.to_datetime(telemetry['datetime'])\n",
    "errors['datetime'] = pd.to_datetime(errors['datetime'])\n",
    "failures['datetime'] = pd.to_datetime(failures['datetime'])"
   ]
  },
  {
   "cell_type": "code",
   "execution_count": 36,
   "metadata": {},
   "outputs": [],
   "source": [
    "telemetry_mean = telemetry.groupby('machineID').mean().reset_index()"
   ]
  },
  {
   "cell_type": "code",
   "execution_count": 37,
   "metadata": {},
   "outputs": [],
   "source": [
    "merged_data = pd.merge(machine, telemetry_mean, on='machineID', how='left')\n",
    "\n",
    "maintenance_count = maintenance.groupby('machineID').size().reset_index(name='maintenance_count')"
   ]
  }
 ],
 "metadata": {
  "kernelspec": {
   "display_name": "Python 3 (ipykernel)",
   "language": "python",
   "name": "python3"
  },
  "language_info": {
   "codemirror_mode": {
    "name": "ipython",
    "version": 3
   },
   "file_extension": ".py",
   "mimetype": "text/x-python",
   "name": "python",
   "nbconvert_exporter": "python",
   "pygments_lexer": "ipython3",
   "version": "3.11.5"
  }
 },
 "nbformat": 4,
 "nbformat_minor": 2
}
